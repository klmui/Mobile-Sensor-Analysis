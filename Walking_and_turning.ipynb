{
 "cells": [
  {
   "cell_type": "code",
   "execution_count": 75,
   "metadata": {},
   "outputs": [],
   "source": [
    "import pandas as pd\n",
    "import statistics\n",
    "import matplotlib.pyplot as plt\n",
    "from scipy.stats import sem, t\n",
    "from scipy import mean\n",
    "from scipy.signal import find_peaks\n",
    "from scipy.signal import argrelmin   \n",
    "import numpy as np"
   ]
  },
  {
   "cell_type": "code",
   "execution_count": 76,
   "metadata": {},
   "outputs": [
    {
     "name": "stdout",
     "output_type": "stream",
     "text": [
      "Steps: 21\n",
      "Counterclockwise turn 45 degrees\n",
      "Steps: 15\n",
      "Counterclockwise turn 90 degrees\n",
      "Steps: 18\n",
      "Counterclockwise turn 45 degrees\n",
      "Steps: 15\n",
      "Counterclockwise turn 45 degrees\n",
      "Steps: 9\n"
     ]
    }
   ],
   "source": [
    "# Setup data\n",
    "file_name = \"WALKING_AND_TURNING.csv\"\n",
    "data_file = pd.read_csv(file_name)  \n",
    "ewma_accel_z = data_file['EWMA accel_z']\n",
    "ewma_gyro_z = data_file['EWMA gyro_z']\n",
    "\n",
    "# Find the number of peaks\n",
    "peak_heights = find_peaks(ewma_accel_z, distance = 104);\n",
    "\n",
    "# Find the turn indices\n",
    "turn_indices = []\n",
    "local_mins = argrelmin(np.array(ewma_gyro_z), order = 150)\n",
    "for i in range(0, len(local_mins[0])):\n",
    "    val = ewma_gyro_z[local_mins[0][i]]\n",
    "    if (val <= -3.9):\n",
    "        turn_indices.append(local_mins[0][i])\n",
    "    elif (val <= -2):\n",
    "        turn_indices.append(local_mins[0][i])\n",
    "\n",
    "# Find the indices in the Excel sheet where there is a step        \n",
    "step_indices = []\n",
    "peak_heights = find_peaks(ewma_accel_z, distance = 104);\n",
    "for i in peak_heights[0]:\n",
    "    step_indices.append(i)\n",
    "    \n",
    "# Helper function for determining the turn    \n",
    "def checkTurn(index):\n",
    "    val = ewma_gyro_z[index]\n",
    "    if (val <= -3.9):\n",
    "        return \"Counterclockwise turn 90 degrees\"\n",
    "    elif (val <= -2):\n",
    "        return \"Counterclockwise turn 45 degrees\"\n",
    "\n",
    "\n",
    "turn_index = 0\n",
    "step_counter = 0\n",
    "# Prints the number of steps before each turn\n",
    "for i in range(0, len(step_indices)):\n",
    "    step_counter += 1\n",
    "    # At the end of the data\n",
    "    if (i == len(step_indices) - 1):\n",
    "        print(\"Steps:\", step_counter)\n",
    "    else:\n",
    "        step_index = step_indices[i]\n",
    "        next_step_index = step_indices[i + 1]\n",
    "        # Checks if the there is a step and then a turn\n",
    "        if (turn_index < (len(turn_indices))):\n",
    "            if (step_index <= turn_indices[turn_index] and next_step_index >= turn_indices[turn_index]):\n",
    "                # There was a turn\n",
    "                print(\"Steps:\", step_counter)\n",
    "                step_counter = 0\n",
    "                print(checkTurn(turn_indices[turn_index]))\n",
    "                turn_index += 1\n"
   ]
  }
 ],
 "metadata": {
  "kernelspec": {
   "display_name": "Python 3",
   "language": "python",
   "name": "python3"
  },
  "language_info": {
   "codemirror_mode": {
    "name": "ipython",
    "version": 3
   },
   "file_extension": ".py",
   "mimetype": "text/x-python",
   "name": "python",
   "nbconvert_exporter": "python",
   "pygments_lexer": "ipython3",
   "version": "3.7.4"
  }
 },
 "nbformat": 4,
 "nbformat_minor": 2
}
