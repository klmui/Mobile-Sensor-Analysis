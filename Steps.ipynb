{
 "cells": [
  {
   "cell_type": "code",
   "execution_count": 17,
   "metadata": {},
   "outputs": [],
   "source": [
    "import pandas as pd\n",
    "from scipy.signal import find_peaks"
   ]
  },
  {
   "cell_type": "code",
   "execution_count": 18,
   "metadata": {
    "scrolled": false
   },
   "outputs": [
    {
     "name": "stdout",
     "output_type": "stream",
     "text": [
      "Steps in WALKING.csv: 36\n"
     ]
    }
   ],
   "source": [
    "#Setup data\n",
    "file_name = \"WALKING.csv\"\n",
    "data_file = pd.read_csv(file_name)\n",
    "ewma_accel_z = data_file['EWMA accel_z']\n",
    "\n",
    "# Accel_z should be at its peak when there's a step\n",
    "peak_heights = find_peaks(ewma_accel_z, distance = 104);\n",
    "print(\"Steps in WALKING.csv:\", len(peak_heights[0]))"
   ]
  },
  {
   "cell_type": "code",
   "execution_count": 19,
   "metadata": {},
   "outputs": [
    {
     "name": "stdout",
     "output_type": "stream",
     "text": [
      "Steps in WALKING_AND_TURNING.csv: 78\n"
     ]
    }
   ],
   "source": [
    "# Setup data\n",
    "file_name = \"WALKING_AND_TURNING.csv\"\n",
    "data_file = pd.read_csv(file_name)  \n",
    "ewma_accel_z = dataFile['EWMA accel_z']\n",
    "\n",
    "# Accel_z should be at its peak when there's a step\n",
    "peak_heights = find_peaks(ewma_accel_z, distance = 104);\n",
    "print(\"Steps in WALKING_AND_TURNING.csv:\", len(peak_heights[0]))"
   ]
  }
 ],
 "metadata": {
  "kernelspec": {
   "display_name": "Python 3",
   "language": "python",
   "name": "python3"
  },
  "language_info": {
   "codemirror_mode": {
    "name": "ipython",
    "version": 3
   },
   "file_extension": ".py",
   "mimetype": "text/x-python",
   "name": "python",
   "nbconvert_exporter": "python",
   "pygments_lexer": "ipython3",
   "version": "3.7.4"
  }
 },
 "nbformat": 4,
 "nbformat_minor": 2
}
