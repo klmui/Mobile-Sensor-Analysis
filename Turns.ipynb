{
 "cells": [
  {
   "cell_type": "code",
   "execution_count": 22,
   "metadata": {},
   "outputs": [],
   "source": [
    "import pandas as pd\n",
    "import statistics\n",
    "import matplotlib.pyplot as plt\n",
    "from scipy.stats import sem, t\n",
    "from scipy import mean\n",
    "from scipy.signal import find_peaks\n",
    "from scipy.signal import argrelmin   \n",
    "import numpy as np"
   ]
  },
  {
   "cell_type": "code",
   "execution_count": 23,
   "metadata": {
    "scrolled": false
   },
   "outputs": [
    {
     "name": "stdout",
     "output_type": "stream",
     "text": [
      "Clockwise turns in TURNING.csv: 4\n",
      "Counterclockwise turns in TURNING.csv: 4\n"
     ]
    }
   ],
   "source": [
    "# Setup data\n",
    "file_name = \"TURNING.csv\"\n",
    "data_file = pd.read_csv(file_name) \n",
    "ewma_gyro_z = data_file['EWMA gyro_z']\n",
    "\n",
    "clockwise_turns = 0\n",
    "counter_clockwise_turns = 0\n",
    "\n",
    "# Find the number of peaks for clockwise turns\n",
    "peak_heights = find_peaks(ewma_gyro_z, height = 0, distance = 150);\n",
    "for val in peak_heights[1]['peak_heights']:\n",
    "    if (val >= 4):\n",
    "        clockwise_turns += 1\n",
    "\n",
    "# Find the number of local minimums for counterclockwise turns\n",
    "local_mins = argrelmin(np.array(ewma_gyro_z), order = 150)\n",
    "for i in range(0, len(local_mins[0])):\n",
    "    val = ewma_gyro_z[local_mins[0][i]]\n",
    "    if (val <= -4):\n",
    "        counter_clockwise_turns += 1\n",
    "        \n",
    "print(\"Clockwise turns in TURNING.csv:\", clockwise_turns)\n",
    "print(\"Counterclockwise turns in TURNING.csv:\", counter_clockwise_turns)\n",
    "        "
   ]
  },
  {
   "cell_type": "code",
   "execution_count": 24,
   "metadata": {},
   "outputs": [
    {
     "name": "stdout",
     "output_type": "stream",
     "text": [
      "Clockwise turns in WALKING_AND_TURNING.csv: 0\n",
      "Counterclockwise turns in WALKING_AND_TURNING: 4\n"
     ]
    }
   ],
   "source": [
    "# Setup data\n",
    "fileName = \"WALKING_AND_TURNING.csv\"\n",
    "dataFile = pd.read_csv(fileName)  \n",
    "ewma_gyro_z = dataFile['EWMA gyro_z']\n",
    "\n",
    "clockwise_turns = 0\n",
    "counter_clockwise_turns = 0\n",
    "\n",
    "# Find the number of peaks for clockwise turns\n",
    "peak_heights = find_peaks(ewma_gyro_z, height=0, distance=150);\n",
    "for val in peak_heights[1]['peak_heights']:\n",
    "    if (val >= 2):\n",
    "        clockwise_turns += 1\n",
    "\n",
    "# Find the number of local minimums for counterclockwise turns\n",
    "local_mins = argrelmin(np.array(ewma_gyro_z), order = 150)\n",
    "for i in range(0, len(local_mins[0])):\n",
    "    val = ewma_gyro_z[local_mins[0][i]]\n",
    "    if (val <= -2):\n",
    "        counter_clockwise_turns += 1\n",
    "        \n",
    "print(\"Clockwise turns in WALKING_AND_TURNING.csv:\", clockwise_turns)\n",
    "print(\"Counterclockwise turns in WALKING_AND_TURNING:\", counter_clockwise_turns)\n",
    "        "
   ]
  }
 ],
 "metadata": {
  "kernelspec": {
   "display_name": "Python 3",
   "language": "python",
   "name": "python3"
  },
  "language_info": {
   "codemirror_mode": {
    "name": "ipython",
    "version": 3
   },
   "file_extension": ".py",
   "mimetype": "text/x-python",
   "name": "python",
   "nbconvert_exporter": "python",
   "pygments_lexer": "ipython3",
   "version": "3.7.4"
  }
 },
 "nbformat": 4,
 "nbformat_minor": 2
}
